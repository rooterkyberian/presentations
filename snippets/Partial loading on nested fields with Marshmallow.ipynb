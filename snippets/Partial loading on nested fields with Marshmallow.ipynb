{
 "cells": [
  {
   "cell_type": "markdown",
   "metadata": {},
   "source": [
    "Marshmallow is a one of the best (de)serialization&validation libraries available for Python, so it came at a surprise to me it [does not support nested partial loading](https://github.com/marshmallow-code/marshmallow/issues/438) out of the box.\n",
    "\n",
    "Following snippet shows how to circumvent this limitation by creating a copy of your schema with partial enabled for all nested fields (no matter how deep they are)."
   ]
  },
  {
   "cell_type": "code",
   "execution_count": 1,
   "metadata": {},
   "outputs": [],
   "source": [
    "import copy\n",
    "from typing import Any, Dict\n",
    "\n",
    "import marshmallow\n",
    "\n",
    "\n",
    "def partial_nested_schema(schema: marshmallow.Schema, partial: bool = True) -> marshmallow.Schema:\n",
    "    \"\"\"Recursively apply `partial` to schema\"\"\"\n",
    "    modified_schema = copy.deepcopy(schema)\n",
    "    schemas = collections.deque([modified_schema])\n",
    "    while schemas:\n",
    "        c_schema = schemas.pop()\n",
    "        c_schema.partial = partial\n",
    "        schemas.extend(\n",
    "            field.schema\n",
    "            for field in c_schema.fields.values()\n",
    "            if isinstance(field, marshmallow.fields.Nested)\n",
    "        )\n",
    "    return modified_schema"
   ]
  },
  {
   "cell_type": "markdown",
   "metadata": {},
   "source": [
    "This simple function does not support `Nested` fields embedded in `Dict` fields ([feature just recently introduced](https://github.com/marshmallow-code/marshmallow/issues/483#issuecomment-354562517)), but adding support for it should not be much trouble."
   ]
  }
 ],
 "metadata": {
  "kernelspec": {
   "display_name": "py3.6 w/stuff",
   "language": "python3",
   "name": "py3nstuff"
  },
  "language_info": {
   "codemirror_mode": {
    "name": "ipython",
    "version": 3
   },
   "file_extension": ".py",
   "mimetype": "text/x-python",
   "name": "python",
   "nbconvert_exporter": "python",
   "pygments_lexer": "ipython3",
   "version": "3.6.4"
  }
 },
 "nbformat": 4,
 "nbformat_minor": 2
}
