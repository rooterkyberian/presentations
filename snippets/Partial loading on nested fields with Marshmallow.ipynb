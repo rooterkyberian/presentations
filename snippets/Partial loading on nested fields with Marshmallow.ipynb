{
 "cells": [
  {
   "cell_type": "markdown",
   "metadata": {},
   "source": [
    "Marshmallow is one of the best (de)serialization&validation libraries available for Python, so it came at a surprise to me it [does not support nested partial loading](https://github.com/marshmallow-code/marshmallow/issues/438) out of the box.\n",
    "\n",
    "Following snippet shows how to circumvent this limitation by creating a copy of your schema with partial enabled for all nested fields (no matter how deep they are)."
   ]
  },
  {
   "cell_type": "code",
   "execution_count": 1,
   "metadata": {},
   "outputs": [],
   "source": [
    "import collections\n",
    "import copy\n",
    "from typing import Any, Dict\n",
    "\n",
    "import marshmallow\n",
    "\n",
    "\n",
    "def partial_nested_schema(schema: marshmallow.Schema, partial: bool = True) -> marshmallow.Schema:\n",
    "    \"\"\"Recursively apply `partial` to schema\"\"\"\n",
    "    modified_schema = copy.deepcopy(schema)\n",
    "    schemas = collections.deque([modified_schema])\n",
    "    while schemas:\n",
    "        c_schema = schemas.pop()\n",
    "        c_schema.partial = partial\n",
    "        schemas.extend(\n",
    "            field.schema\n",
    "            for field in c_schema.fields.values()\n",
    "            if isinstance(field, marshmallow.fields.Nested)\n",
    "        )\n",
    "    return modified_schema"
   ]
  },
  {
   "cell_type": "markdown",
   "metadata": {},
   "source": [
    "## Usage example"
   ]
  },
  {
   "cell_type": "code",
   "execution_count": 2,
   "metadata": {},
   "outputs": [],
   "source": [
    "class TestSchemaA(marshmallow.Schema):\n",
    "    value1 = marshmallow.fields.String(required=True)\n",
    "    value2 = marshmallow.fields.String(required=True)\n",
    "    \n",
    "\n",
    "class TestSchemaB(marshmallow.Schema):\n",
    "    value = marshmallow.fields.String(required=True)\n",
    "    nested = marshmallow.fields.Nested(TestSchemaA, required=True)\n",
    "    \n",
    "data = {\n",
    "    'value': 'test',\n",
    "    'nested': {'value2': 'test'},\n",
    "}"
   ]
  },
  {
   "cell_type": "code",
   "execution_count": 3,
   "metadata": {},
   "outputs": [
    {
     "data": {
      "text/plain": [
       "UnmarshalResult(data={'value': 'test', 'nested': {'value2': 'test'}}, errors={'nested': {'value1': ['Missing data for required field.']}})"
      ]
     },
     "execution_count": 3,
     "metadata": {},
     "output_type": "execute_result"
    }
   ],
   "source": [
    "test_schema = TestSchemaB(partial=True)\n",
    "test_schema.load(data)"
   ]
  },
  {
   "cell_type": "code",
   "execution_count": 4,
   "metadata": {},
   "outputs": [
    {
     "data": {
      "text/plain": [
       "UnmarshalResult(data={'value': 'test', 'nested': {'value2': 'test'}}, errors={})"
      ]
     },
     "execution_count": 4,
     "metadata": {},
     "output_type": "execute_result"
    }
   ],
   "source": [
    "partial_test_schema = partial_nested_schema(test_schema)\n",
    "partial_test_schema.load(data)"
   ]
  },
  {
   "cell_type": "markdown",
   "metadata": {},
   "source": [
    "### Caveats\n",
    "This function does not support `Nested` fields embedded in `Dict` fields ([feature just recently introduced](https://github.com/marshmallow-code/marshmallow/issues/483#issuecomment-354562517)), but adding support for it should be simple enough."
   ]
  }
 ],
 "metadata": {
  "kernelspec": {
   "display_name": "py3.6 w/stuff",
   "language": "python3",
   "name": "py3nstuff"
  },
  "language_info": {
   "codemirror_mode": {
    "name": "ipython",
    "version": 3
   },
   "file_extension": ".py",
   "mimetype": "text/x-python",
   "name": "python",
   "nbconvert_exporter": "python",
   "pygments_lexer": "ipython3",
   "version": "3.6.4"
  }
 },
 "nbformat": 4,
 "nbformat_minor": 2
}
